{
 "cells": [
  {
   "cell_type": "markdown",
   "metadata": {},
   "source": [
    "## Setting up"
   ]
  },
  {
   "cell_type": "code",
   "execution_count": null,
   "metadata": {
    "code_folding": [
     0
    ]
   },
   "outputs": [],
   "source": [
    "# Load libraries and set plot parameters\n",
    "import numpy as np\n",
    "import pandas as pd\n",
    "import seaborn as sns; sns.set()\n",
    "from cycler import cycler\n",
    "import json\n",
    "import pytz\n",
    "from scipy import stats\n",
    "\n",
    "import datetime\n",
    "datetime.datetime(1990, 1, 1, tzinfo=pytz.utc)\n",
    "\n",
    "from matplotlib import cm\n",
    "import matplotlib.pyplot as plt\n",
    "import matplotlib.ticker as ticker\n",
    "%matplotlib inline\n",
    "\n",
    "from IPython.display import set_matplotlib_formats\n",
    "set_matplotlib_formats('pdf', 'png')\n"
   ]
  },
  {
   "cell_type": "code",
   "execution_count": null,
   "metadata": {
    "code_folding": [
     0
    ]
   },
   "outputs": [],
   "source": [
    "# Functions\n",
    "def readfile(fin):\n",
    "    ''' Generic JSON reader, defaults to calling the file that getdata() outputs\n",
    "    '''\n",
    "    with open(fin) as f:\n",
    "        vals = json.load(f)\n",
    "    return vals\n",
    "\n",
    "netdict = readfile(\"/Users/quinnbatten/Documents/Programming/PyProjects/rborrow/textfiles/new_netdict_out_outcomebool.json\")\n",
    "#netdict = readfile(\"/Users/quinnbatten/Documents/Programming/PyProjects/rborrow/textfiles/netdict_out_TEST.json\")\n",
    "\n",
    "# Fn to correctly format dollar amounts, thanks to: https://stackoverflow.com/questions/320929/currency-formatting-in-python#320951\n",
    "converter = lambda amount: \"%s%s%s\"%(\n",
    "    \"-\" if amount < 0 else \"\", \n",
    "    '$', \n",
    "    ('{:%d,.0f}'%(len(str(amount))+3)).format(abs(amount)).lstrip())"
   ]
  },
  {
   "cell_type": "code",
   "execution_count": null,
   "metadata": {
    "code_folding": [
     0
    ]
   },
   "outputs": [],
   "source": [
    "# Put into dataframe, do a bit of cleanup\n",
    "\n",
    "def load_netdict(name):\n",
    "    df_tmp = []\n",
    "    for loan in name:\n",
    "        tmp_loan = {'amt': '',\n",
    "                    'bor': '',\n",
    "                    'date': '',\n",
    "                    'lend': '',\n",
    "                    'paid': ''\n",
    "                   }\n",
    "\n",
    "        tmp_loan['amt'] = loan['amt']\n",
    "        tmp_loan['bor'] = loan['bor']\n",
    "        tmp_loan['lend'] = loan['lend']\n",
    "        tmp_loan['date'] = loan['date']\n",
    "        tmp_loan['date_h'] = datetime.datetime.utcfromtimestamp(loan['date']).strftime('%Y-%m-%d %H:%M:%S')\n",
    "        tmp_loan['paid'] = loan['outcome']\n",
    "        df_tmp.append(tmp_loan)\n",
    "    return df_tmp\n",
    "\n",
    "\n",
    "    \n",
    "df = pd.DataFrame(load_netdict(netdict))\n",
    "df.replace('NaN', np.nan, inplace=True)\n",
    "df = df[df.amt != 0]\n",
    "#df = df[~df.amt.isnull()]\n",
    "df1 = df.copy()"
   ]
  },
  {
   "cell_type": "code",
   "execution_count": null,
   "metadata": {
    "code_folding": [
     0
    ]
   },
   "outputs": [],
   "source": [
    "# Setting a datetime index\n",
    "df['date'] = pd.to_datetime(df['date_h'])\n",
    "del df['date_h']\n",
    "df.set_index('date', inplace=True)"
   ]
  },
  {
   "cell_type": "code",
   "execution_count": null,
   "metadata": {
    "code_folding": [
     0
    ]
   },
   "outputs": [],
   "source": [
    "# Do some cleaning\n",
    "df[df.amt > 100000].index\n",
    "df.at['2018-06-22 23:37:50','amt'] = 500\n",
    "# https://www.reddit.com/r/borrow/comments/8t5uwz/paid_uchibiilala_300200int_on_time/\n",
    "\n",
    "df[df.amt == 30050]\n",
    "df.at['2018-07-27 22:23:35', 'amt'] = 350\n",
    "# https://www.reddit.com/r/borrow/comments/92gzsj/paid_umagnitiki_30050int_on_time_w_ext/\n",
    "\n",
    "df[df.amt == 20000]\n",
    "df.at['2017-06-27 16:28:49', 'amt'] = 200\n",
    "# https://www.reddit.com/r/borrow/comments/6jtu30/unpaid_umikethegrass_tupolo_ms_usa_20000_147_days/\n",
    "\n",
    "df[df.amt == 12223] \n",
    "df.at['2015-05-15 18:41:32', 'amt'] = 600\n"
   ]
  },
  {
   "cell_type": "markdown",
   "metadata": {},
   "source": [
    "(*Note:* After import, I had to do a bit of cleaning manually, mostly due to typos in post titles that resulted in incorrect loan amounts being read in.\n",
    "\n",
    "At this initial cleaning stage, I also discovered that the parser was occasionally grabbing numbers from usernames and marking them as loan amounts. I made a change to the parser so that once it discovered a username, it cut the username out of the string before searching for a loan amount. None of that is shown in the code here, because it was a change in the python code that parses the file which this notebook then imports.)"
   ]
  },
  {
   "cell_type": "code",
   "execution_count": null,
   "metadata": {
    "code_folding": [
     0
    ]
   },
   "outputs": [],
   "source": [
    "# Set plot parameters for our plots\n",
    "plt.style.use('bmh')\n",
    "\n",
    "plt.rcParams['figure.figsize'] = 20, 15\n",
    "plt.rcParams['axes.labelsize'] = 22\n",
    "plt.rcParams['axes.titlesize'] = 30\n",
    "plt.rcParams['xtick.labelsize'] = 18\n",
    "plt.rcParams['ytick.labelsize'] = 18\n",
    "plt.rcParams['xtick.minor.visible'] = True\n",
    "plt.rcParams['font.family'] = \"serif\"\n",
    "plt.rcParams['font.serif'] = \"Georgia\"\n",
    "plt.rcParams['figure.autolayout'] = False"
   ]
  },
  {
   "cell_type": "markdown",
   "metadata": {},
   "source": [
    "## Intro"
   ]
  },
  {
   "cell_type": "markdown",
   "metadata": {},
   "source": [
    "#### What's '/r/borrow'?\n",
    "/r/borrow is a subreddit (an online forum hosted by the website 'Reddit') where people ask for and give informal loans. It's been in existence since fall 2014, after it's predeccessor, /r/loans,  decided to switch to a new forum name and implement a more straightforward set of rules. There is a pretty good article in The Atlantic about it ([here's a link](\n",
    "https://www.theatlantic.com/business/archive/2016/05/reddit-borrow-peer-loan/481698/)), although it makes a few claims that I think are incorrect.\n",
    "\n",
    "#### How does the loan process work on /r/borrow?\n",
    "On /r/borrow, each loan is recorded publicly on the subreddit in two different places: a request post, and a 'paid'/'unpaid' post. First, the borrower asks for a loan and explains why they need it, how much they need, when they'll repay it, and how much interest they'll pay. (Note that the borrower tends to set the terms of the loan, although it's not uncommon to see \"Happy to work out the interest rate with the lender\" or something of that ilk.) After the request is posted, lenders contact the borrower via PM (private message), and the borrower chooses a lender. Money is exchanged through whatever channel they've chosen, and usually the lender collects personal information from the borrower. Commonly used channels include Venmo, Paypal, Zelle, and an app called \"Cash.\" Common practice for collecting information from borrowers is to ask for a picture of the borrower holding up their drivers license and a note saying something like \"I borrowed \\[x\\] amount from \\[lender\\],\" and to get the borrower's social media profiles (e.g. Instagram, Facebook). If the loan is paid back on time, the lender then makes a 'paid' post, including the borrower's name and the size of the loan. If it's not paid back on time, the lender can make a 'late' post or an 'unpaid' post, detailing the situation. If an 'unpaid' post is made, the borrower is permanently blocked from the subreddit and added to a list of defaulted borrowers.\n",
    "\n",
    "#### How did you get this data?\n",
    "I initially wrote a program that used the Reddit API to download posts from the subreddit. However, I quickly discovered that Reddit had just changed its API rules to make it nearly impossible to download all posts on a subreddit. When I started looking for alternatives, I quickly discovered [pushshift.io](https://pushshift.io/), an awesome and immensely useful project. Pushshift is a full copy of Reddit's content, easily accessible through several different APIs. Many thanks to Pushshift for their excellent work!\n",
    "\n",
    "#### What exactly did you do?\n",
    "After downloading all posts on the subreddit, I wrote a program that extracted a few variables from the post titles. I processed 'paid' and 'unpaid' posts, since the main interesting outcome here is whether the loans were successful or not. Each post already has a date and author (in this case, the lender posts confirming repayment or failure to repay). However, the borrower's username and the size of the loan is written in semi-structured text in the title. That is, users type out the post titles, but there are rules that they're supposed to follow about what is in the title. Unfortunately, those rules are not rigorously enforced, and there are many typos and errors.\n",
    "\n",
    "My parsing program extracted the borrower's name and the size of the loan from the title, and the author (lender) and date from the post metadata included in the JSON file that pushshift provides. The final data set spans 207 weeks and contains the lender name, borrower name, loan amount, repayment/default date, and a binary paid/defaulted variable for 16,336 loans.\n",
    "\n",
    "After compiling the dataset, I created a network graph showing the entire subreddit history, and spent some time analzying the data to answer some questions I was interested in. The data, network graph, and my analyses are all available on Github.\n",
    "\n",
    "(**Note:** I initially hoped to extract the interest rate/amount from this data as well, but the subreddit rules make it impossible to do so. Usually, the actual interest rate is determined via PM and is never publicly available. Often, borrowers will propose an interest rate, but the format is completely inconsistent, and there's no guarantee that the terms didn't change when the loan negotiation occurred via PM.)\n",
    "\n",
    "#### A fun side-note:\n",
    "Here's a link to the 'paid' post for the largest loan given on /r/borrow. Or rather, it was multiple 'loans' (e.g. this lender sent multiple chunks of money to this borrower), but this was the largest total outstanding loan amount for one lender/borrower pair at a single time.\n",
    "https://www.reddit.com/r/borrow/comments/7crei7/paid_upepe_tapia_7055_across_multiple_loans/"
   ]
  },
  {
   "cell_type": "markdown",
   "metadata": {},
   "source": [
    "## A quick visualization of all the loans that have moved through /r/borrow"
   ]
  },
  {
   "cell_type": "code",
   "execution_count": null,
   "metadata": {
    "code_folding": [
     0
    ],
    "scrolled": false
   },
   "outputs": [],
   "source": [
    "# Plot all loans by size and date\n",
    "fig, (ax1, ax2) = plt.subplots(2, 1)\n",
    "ax1.scatter(df[df.paid==1].index, df[df.paid==1].amt,s=13, alpha=0.4, edgecolor='none')\n",
    "ax2.scatter(df[df.paid==0].index, df[df.paid==0].amt,s=13, alpha=0.4, edgecolor='none')\n",
    "ax1.grid(True)\n",
    "labels = ax1.get_xticklabels()\n",
    "plt.setp(labels, rotation=45, horizontalalignment='right')\n",
    "ax1.set(xlabel=\"Date\", ylabel=\"Loan amount\", title=\"Paid loans by date and amount\")\n",
    "ax1.get_yaxis().set_major_formatter(\n",
    "    ticker.FuncFormatter(lambda x, p: converter(x)))\n",
    "ax2.set(xlabel=\"Date\", ylabel=\"Loan amount\", title=\"Defaulted loans by date and amount\")\n",
    "ax2.get_yaxis().set_major_formatter(\n",
    "    ticker.FuncFormatter(lambda x, p: converter(x)))\n",
    "plt.subplots_adjust(hspace=0.5)"
   ]
  },
  {
   "cell_type": "markdown",
   "metadata": {},
   "source": [
    "## Is it growing? How has the amount of activity on the forum changed over time?"
   ]
  },
  {
   "cell_type": "markdown",
   "metadata": {},
   "source": [
    "First, let's graph the total amount repaid per week. "
   ]
  },
  {
   "cell_type": "code",
   "execution_count": null,
   "metadata": {
    "code_folding": [
     0
    ]
   },
   "outputs": [],
   "source": [
    "# Making a new aggregated dataframe: sum of loans repaid each week\n",
    "df_m = df[df.paid == 1].copy()\n",
    "del df_m['bor']\n",
    "del df_m['lend']\n",
    "del df_m['paid']\n",
    "df_m = df_m.resample('W').sum()\n",
    "rolling = df_m.rolling(10, center=True).mean()"
   ]
  },
  {
   "cell_type": "code",
   "execution_count": null,
   "metadata": {
    "code_folding": [
     0
    ]
   },
   "outputs": [],
   "source": [
    "# Plot\n",
    "fig, ax = plt.subplots()\n",
    "ax.plot(df_m[df_m.index < pd.to_datetime('2018-09')])\n",
    "ax.plot(df_m.index, rolling)\n",
    "ax.set(xlabel=\"Date\", ylabel=\"Total amount repaid in time period\", \n",
    "        title=\"Weekly sum of repaid loans in subreddit\")\n",
    "ax.legend([\"Total weekly amount lent\", \"10-week rolling average\"])\n",
    "ax.get_yaxis().set_major_formatter(\n",
    "    ticker.FuncFormatter(lambda x, p: converter(x)))\n",
    "fig.autofmt_xdate(bottom=0.2, rotation=30, ha='right')\n",
    "#fig.savefig('weeklyloans.png', transparent=False, dpi=80, bbox_inches=\"tight\")"
   ]
  },
  {
   "cell_type": "markdown",
   "metadata": {},
   "source": [
    "It looks like the subreddit has been growing fairly steadily since it's inception, with two exceptions: a large spike in early 2016 (which represented a rise to a new level), and a falloff over the last 6 months. I'm still investigating the 2016 rise to a new level. The recent falloff may be due to an increase in spammers requesting loans, making lenders behave more conservatively (to be clear, that's just speculation on my part)."
   ]
  },
  {
   "cell_type": "code",
   "execution_count": null,
   "metadata": {
    "code_folding": [
     0
    ]
   },
   "outputs": [],
   "source": [
    "# Making a new aggregated dataframe: sum of loans repaid each year\n",
    "df_y = df[df.paid == 1].copy()\n",
    "del df_y['bor']\n",
    "del df_y['lend']\n",
    "del df_y['paid']\n",
    "df_y = df_y.resample('Y').sum()\n",
    "df_y['yr'] = ['2014','2015','2016','2017','2018']"
   ]
  },
  {
   "cell_type": "code",
   "execution_count": null,
   "metadata": {
    "code_folding": [
     0
    ]
   },
   "outputs": [],
   "source": [
    "# Plot\n",
    "fig, ax = plt.subplots()\n",
    "ax.bar(df_y['yr'], df_y['amt'], width=0.4)\n",
    "ax.set(xlabel=\"Year\", ylabel=\"Total value of all loans in time period ($)\",\n",
    "       title=\"Total annual value of repaid loans\")\n",
    "ax.get_yaxis().set_major_formatter(\n",
    "    ticker.FuncFormatter(lambda x, p: converter(x)))"
   ]
  },
  {
   "cell_type": "markdown",
   "metadata": {},
   "source": [
    "## What day of the week are loans paid back on?"
   ]
  },
  {
   "cell_type": "code",
   "execution_count": null,
   "metadata": {
    "code_folding": [
     0
    ],
    "scrolled": false
   },
   "outputs": [],
   "source": [
    "# Making an aggregated dataframe\n",
    "df_dw = df[df.paid == 1].copy()\n",
    "del df_dw['bor']\n",
    "del df_dw['lend']\n",
    "del df_dw['paid']\n",
    "df_dw = df_dw.groupby([df_dw.index.year, df_dw.index.dayofweek]).count()\n",
    "df_dw = df_dw.unstack(level=0)\n",
    "df_dw.index = ['Mon', 'Tues', 'Wed', 'Thurs', 'Fri', 'Sat', 'Sun']"
   ]
  },
  {
   "cell_type": "code",
   "execution_count": null,
   "metadata": {
    "code_folding": [
     0
    ]
   },
   "outputs": [],
   "source": [
    "# Plot\n",
    "# Make some sequential colors to use\n",
    "colors = [ cm.inferno(x) for x in np.linspace(0, 1, 7) ]\n",
    "xl = ['Mon', 'Tues', 'Wed', 'Thurs', 'Fri', 'Sat', 'Sun']\n",
    "# Actual plotting\n",
    "\n",
    "# fig, ax = plt.subplots()\n",
    "# ax.bar(df_y['yr'], df_y['amt'])\n",
    "# plt.xlabel(\"Year\")\n",
    "# plt.ylabel(\"Total value of all loans in time period ($)\")\n",
    "# plt.title(\"Total annual value of repaid loans\")\n",
    "# ax.get_yaxis().set_major_formatter(\n",
    "#     matplotlib.ticker.FuncFormatter(lambda x, p: format(int(x), ',')))\n",
    "\n",
    "#from cycler import cycler\n",
    "\n",
    "fig, ax = plt.subplots()\n",
    "ax.set_prop_cycle(cycler('color', ['#fdbb84','#fc8d59','#ef6548','#d7301f','#990000']))\n",
    "ax.plot(df_dw.index, df_dw['amt'])\n",
    "ax.set(xlabel=\"Day of week\", ylabel=\"Number of loans repaid\")\n",
    "plt.xticks([0.,  1.,  2.,  3.,  4.,  5.,  6.], xl)\n",
    "plt.legend([\"Loans Repaid, 2014\", \" \\\"   \\\" , 2015\", \" \\\"   \\\" , 2016\", \" \\\"   \\\" , 2017\", \" \\\"   \\\" , 2018\"])\n",
    "ax.get_yaxis().set_major_formatter(\n",
    "    ticker.FuncFormatter(lambda x, p: format(int(x), ',')))\n"
   ]
  },
  {
   "cell_type": "markdown",
   "metadata": {},
   "source": [
    "## How big are these loans?"
   ]
  },
  {
   "cell_type": "code",
   "execution_count": null,
   "metadata": {
    "code_folding": [
     0
    ]
   },
   "outputs": [],
   "source": [
    "# Plotting by loan size\n",
    "fig, ax = plt.subplots()\n",
    "ax.hist(df['amt'], bins = 40)\n",
    "ax.set(xlabel=\"Loan Amount\", ylabel=\"Frequency\", title=\"Loan amount, by loan\")\n",
    "ax.get_yaxis().set_major_formatter(\n",
    "    ticker.FuncFormatter(lambda x, p: format(int(x), ',')))\n",
    "ax.get_xaxis().set_major_formatter(\n",
    "    ticker.FuncFormatter(lambda x, p: converter(x)))"
   ]
  },
  {
   "cell_type": "markdown",
   "metadata": {},
   "source": [
    "Looks very right-skewed, which makes sense. What does the main cluster look like, for under a thousand dollars?"
   ]
  },
  {
   "cell_type": "code",
   "execution_count": null,
   "metadata": {
    "code_folding": [
     0
    ]
   },
   "outputs": [],
   "source": [
    "# Plotting by loan size for loans <$1000\n",
    "amt = df['amt']\n",
    "fig, ax = plt.subplots()\n",
    "ax.hist(amt[amt < 1000], bins = 100)\n",
    "ax.set_xticks(range(0,1050,50))\n",
    "ax.set(xlabel=\"Loan Amount\", ylabel=\"Frequency\", title=\"Size of individual loans, in dollars, for those <$1,000\")\n",
    "ax.get_yaxis().set_major_formatter(\n",
    "    ticker.FuncFormatter(lambda x, p: format(int(x), ',')))\n",
    "ax.get_xaxis().set_major_formatter(\n",
    "    ticker.FuncFormatter(lambda x, p: converter(x)))\n",
    "fig.autofmt_xdate(bottom=0.2, rotation=45, ha='right')"
   ]
  },
  {
   "cell_type": "markdown",
   "metadata": {},
   "source": [
    "Looks like there's a big cluster between \\\\$25 and \\\\$100. It's also clear that people ask for loans that are \"nice\" numbers (e.g. multiples of 10).\n",
    "\n",
    "Let's look at large loans (over $1000)."
   ]
  },
  {
   "cell_type": "code",
   "execution_count": null,
   "metadata": {
    "code_folding": [
     0
    ]
   },
   "outputs": [],
   "source": [
    "# Plotting by loan size for loans >$1000\n",
    "amt = df['amt']\n",
    "fig, ax = plt.subplots()\n",
    "ax.hist(amt[amt > 1000], bins = 100)\n",
    "#ax.set_xticks(range(0, 3200,50))\n",
    "ax.set(xlabel=\"Loan Amount\", ylabel=\"Frequency\", title=\"Size of individual loans, in dollars, for those >$1,000\")\n",
    "ax.get_yaxis().set_major_formatter(\n",
    "    ticker.FuncFormatter(lambda x, p: format(int(x), ',')))\n",
    "ax.get_xaxis().set_major_formatter(\n",
    "    ticker.FuncFormatter(lambda x, p: converter(x)))"
   ]
  },
  {
   "cell_type": "markdown",
   "metadata": {},
   "source": [
    "## What proportion of loans get repaid?"
   ]
  },
  {
   "cell_type": "code",
   "execution_count": null,
   "metadata": {
    "code_folding": [
     0
    ]
   },
   "outputs": [],
   "source": [
    "# Computing some stats\n",
    "df_totalratio = df.groupby('paid').sum()\n",
    "df_totalratio = df_totalratio.unstack(level=0)\n",
    "\n",
    "df_totalratio_c = df.groupby('paid').count()\n",
    "df_totalratio_c = df_totalratio_c.unstack(level=0)"
   ]
  },
  {
   "cell_type": "code",
   "execution_count": null,
   "metadata": {
    "code_folding": [
     0
    ]
   },
   "outputs": [],
   "source": [
    "# Printing the proportion of repaid loans / repaid dollars of principal\n",
    "totlsum = 100 * (df_totalratio[1] / (df_totalratio[0] + df_totalratio[1]))\n",
    "totlcount = 100 * (df_totalratio_c['amt'][1] / (df_totalratio_c['amt'][0] + df_totalratio_c['amt'][1]))\n",
    "\n",
    "print(\"Percent of loans repaid: \" + str(totlcount))\n",
    "print(\"Percent of dollars loaned repaid: \" + str(totlsum))"
   ]
  },
  {
   "cell_type": "markdown",
   "metadata": {},
   "source": [
    "So, of every dollar of principal lent over the lifetime of the subreddit, 88 cents of it was repaid.\n",
    "\n",
    "From the perspective of loan default rates, 90.5% of loans given were successfully repaid. \n",
    "\n",
    "This does not change meaningfully when we exclude earlier years (e.g. if we only consider 2017 and 2018), which tells us that this proportion has remained relatively constant over time.\n",
    "\n",
    "Let's graph this ratio over time."
   ]
  },
  {
   "cell_type": "code",
   "execution_count": null,
   "metadata": {
    "code_folding": [
     0
    ]
   },
   "outputs": [],
   "source": [
    "# Making an aggregated dataframe\n",
    "df_y = df.copy()\n",
    "del df_y['bor']\n",
    "del df_y['lend']\n",
    "df_y = df_y.groupby([df_y.index.year, 'paid']).sum()\n",
    "df_y = df_y.unstack(level=1)\n",
    "df_y = df_y.amt\n",
    "df_y['unpaid'] = df_y[0]\n",
    "df_y['paid'] = df_y[1]\n",
    "del df_y[0]\n",
    "del df_y[1]\n",
    "df_y"
   ]
  },
  {
   "cell_type": "code",
   "execution_count": null,
   "metadata": {
    "code_folding": [
     0
    ]
   },
   "outputs": [],
   "source": [
    "# Calculating ratio over time\n",
    "df_y_prop = df_y.copy()\n",
    "df_y_prop['ratio'] = df_y['unpaid'] / df_y['paid']\n",
    "df_y_prop['success_prop'] = df_y['paid'] / (df_y['unpaid'] + df_y['paid'])\n",
    "del df_y_prop['unpaid']\n",
    "del df_y_prop['paid']\n",
    "del df_y_prop['ratio']"
   ]
  },
  {
   "cell_type": "code",
   "execution_count": null,
   "metadata": {
    "code_folding": [
     0
    ]
   },
   "outputs": [],
   "source": [
    "# Plot\n",
    "fig, ax = plt.subplots()\n",
    "ax.plot(df_y_prop, marker='o')\n",
    "ax.set(xlabel=\"Year\", ylabel=\"% of loans successfully repaid\", title=\"Percentage of loans successfully repaid, by year\")\n",
    "ax.xaxis.set_ticks(np.arange(2014, 2019, 1))\n",
    "ax.get_yaxis().set_major_formatter(\n",
    "    ticker.FuncFormatter(lambda x, p: '%d'%(100 * x)))\n",
    "ax.legend(['Unpaid', 'Paid'])"
   ]
  },
  {
   "cell_type": "markdown",
   "metadata": {},
   "source": [
    "Another way to visualize some related metrics is to look at the number of repaid and unpaid loans over time. I like this visualization because we can see the component parts of the ratio we plotted above. (e.g. The ratio dropped in 2018— how much of that change is due to a rise in defaulted loans vs. a drop in repaid loans?)"
   ]
  },
  {
   "cell_type": "code",
   "execution_count": null,
   "metadata": {
    "code_folding": [
     0
    ],
    "scrolled": false
   },
   "outputs": [],
   "source": [
    "# Plot\n",
    "fig, ax = plt.subplots()\n",
    "ax.plot(df_y, marker='o')\n",
    "ax.set(xlabel=\"Year\", ylabel=\"Total Annual Loan Amount\", title=\"Total annual loan amount, by repayment outcome\")\n",
    "ax.xaxis.set_ticks(np.arange(2014, 2019, 1))\n",
    "ax.get_yaxis().set_major_formatter(\n",
    "    ticker.FuncFormatter(lambda x, p: converter(x)))\n",
    "ax.legend(['Unpaid', 'Paid'])"
   ]
  },
  {
   "cell_type": "markdown",
   "metadata": {},
   "source": [
    "This graph shows that the amount of unpaid loans has risen at a slower rate than the amount of repaid loans. In other words, as the subreddit has grown, the default rate has dropped. One possible explanation for this trend is that lenders have learned how to identify good borrowers; alternatively, it's popularity has grown amongst honest borrowers, while information about the subreddit has failed to propagate through any sort of 'scammer' community."
   ]
  },
  {
   "cell_type": "markdown",
   "metadata": {},
   "source": [
    "## Let's take a look at lender behavior"
   ]
  },
  {
   "cell_type": "code",
   "execution_count": null,
   "metadata": {
    "code_folding": []
   },
   "outputs": [],
   "source": [
    "# Extracting information about lenders\n",
    "df_lendgroup = df.groupby('lend')\n",
    "\n",
    "lsum = df_lendgroup.aggregate(np.sum)['amt']\n",
    "lcount = df_lendgroup.agg(pd.Series.nunique)['amt']"
   ]
  },
  {
   "cell_type": "code",
   "execution_count": null,
   "metadata": {
    "code_folding": [
     0
    ]
   },
   "outputs": [],
   "source": [
    "# Plot number of loans by lender\n",
    "plt.hist(lcount, bins = 15)\n",
    "plt.title(\"Number of lifetime loans, by lender\", size = 30)"
   ]
  },
  {
   "cell_type": "markdown",
   "metadata": {},
   "source": [
    "The vast majority of lenders give less than 10 loans in their lifetime, and there's a long tail with a max around 130 loans."
   ]
  },
  {
   "cell_type": "code",
   "execution_count": null,
   "metadata": {
    "code_folding": [
     0
    ]
   },
   "outputs": [],
   "source": [
    "# Plot total principal loaned by lender for those less than $1000\n",
    "plt.hist(lsum[(lsum < 1000)], bins = 50)\n",
    "plt.title(\"Sum of lifetime loans, per lender, for those <$1000\", size = 30)"
   ]
  },
  {
   "cell_type": "code",
   "execution_count": null,
   "metadata": {},
   "outputs": [],
   "source": [
    "lsum[lsum > 50000].describe()"
   ]
  },
  {
   "cell_type": "code",
   "execution_count": null,
   "metadata": {},
   "outputs": [],
   "source": [
    "lsum[lsum > 100000].describe()"
   ]
  },
  {
   "cell_type": "markdown",
   "metadata": {},
   "source": [
    "There are 20 lenders who have lent over \\\\$50,000 each, and 10 lenders who have lent over \\\\$100,000 each. Keep in mind that these numbers are probably low, because it is common practice for lenders to give pre-arranged loans to borrowers they've worked with before without posting in the forum at all. The largest lender has lent more than \\\\$350,000 in principal over their /r/borrow lifetime.\n",
    "\n",
    "The lenders who have lent over $100,000 in total are listed below."
   ]
  },
  {
   "cell_type": "code",
   "execution_count": 151,
   "metadata": {},
   "outputs": [
    {
     "data": {
      "text/html": [
       "<div>\n",
       "<style scoped>\n",
       "    .dataframe tbody tr th:only-of-type {\n",
       "        vertical-align: middle;\n",
       "    }\n",
       "\n",
       "    .dataframe tbody tr th {\n",
       "        vertical-align: top;\n",
       "    }\n",
       "\n",
       "    .dataframe thead th {\n",
       "        text-align: right;\n",
       "    }\n",
       "</style>\n",
       "<table border=\"1\" class=\"dataframe\">\n",
       "  <thead>\n",
       "    <tr style=\"text-align: right;\">\n",
       "      <th></th>\n",
       "      <th>amt</th>\n",
       "    </tr>\n",
       "    <tr>\n",
       "      <th>lend</th>\n",
       "      <th></th>\n",
       "    </tr>\n",
       "  </thead>\n",
       "  <tbody>\n",
       "    <tr>\n",
       "      <th>MrMacgoot</th>\n",
       "      <td>103890.420</td>\n",
       "    </tr>\n",
       "    <tr>\n",
       "      <th>geroll</th>\n",
       "      <td>111893.490</td>\n",
       "    </tr>\n",
       "    <tr>\n",
       "      <th>jsquash87</th>\n",
       "      <td>121582.870</td>\n",
       "    </tr>\n",
       "    <tr>\n",
       "      <th>saintsintosea</th>\n",
       "      <td>130866.980</td>\n",
       "    </tr>\n",
       "    <tr>\n",
       "      <th>kashifr</th>\n",
       "      <td>141464.000</td>\n",
       "    </tr>\n",
       "    <tr>\n",
       "      <th>FoxK56</th>\n",
       "      <td>165391.030</td>\n",
       "    </tr>\n",
       "    <tr>\n",
       "      <th>_cup_</th>\n",
       "      <td>225846.105</td>\n",
       "    </tr>\n",
       "    <tr>\n",
       "      <th>l80sman104</th>\n",
       "      <td>233618.610</td>\n",
       "    </tr>\n",
       "    <tr>\n",
       "      <th>IgrewAtomato</th>\n",
       "      <td>270347.190</td>\n",
       "    </tr>\n",
       "    <tr>\n",
       "      <th>hedgie1</th>\n",
       "      <td>354795.600</td>\n",
       "    </tr>\n",
       "  </tbody>\n",
       "</table>\n",
       "</div>"
      ],
      "text/plain": [
       "                      amt\n",
       "lend                     \n",
       "MrMacgoot      103890.420\n",
       "geroll         111893.490\n",
       "jsquash87      121582.870\n",
       "saintsintosea  130866.980\n",
       "kashifr        141464.000\n",
       "FoxK56         165391.030\n",
       "_cup_          225846.105\n",
       "l80sman104     233618.610\n",
       "IgrewAtomato   270347.190\n",
       "hedgie1        354795.600"
      ]
     },
     "execution_count": 151,
     "metadata": {},
     "output_type": "execute_result"
    }
   ],
   "source": [
    "lfindbig = df_lendgroup[['lend','amt']].aggregate(np.sum)\n",
    "lfindbig[lfindbig['amt'] > 100000].sort_values(['amt'])"
   ]
  },
  {
   "cell_type": "markdown",
   "metadata": {},
   "source": [
    "## Conclusion"
   ]
  },
  {
   "cell_type": "markdown",
   "metadata": {},
   "source": [
    "The next step here is to try to predict likelihood of default based on a user's history. I'll likely start working on that project in November 2018! Until then, I'll be focusing on other things. \n",
    "\n",
    "I'm always interested in hearing responses, feedback, criticism, or, well, anything! You can get in touch with me via my website contact page: [quinnbatten.com/contact](https://www.quinnbatten.com/contact/)"
   ]
  }
 ],
 "metadata": {
  "kernelspec": {
   "display_name": "Python 3",
   "language": "python",
   "name": "python3"
  },
  "language_info": {
   "codemirror_mode": {
    "name": "ipython",
    "version": 3
   },
   "file_extension": ".py",
   "mimetype": "text/x-python",
   "name": "python",
   "nbconvert_exporter": "python",
   "pygments_lexer": "ipython3",
   "version": "3.7.0"
  },
  "latex_metadata": {
   "author": "Quinn Batten",
   "title": "Sending money to strangers: Investigating an online lending forum"
  }
 },
 "nbformat": 4,
 "nbformat_minor": 2
}
