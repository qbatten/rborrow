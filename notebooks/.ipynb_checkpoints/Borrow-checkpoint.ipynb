{
 "cells": [
  {
   "cell_type": "code",
   "execution_count": 1,
   "metadata": {},
   "outputs": [],
   "source": [
    "# libraries and setup\n",
    "import pandas as pd\n",
    "import numpy as np\n",
    "import json\n",
    "import datetime, pytz\n",
    "datetime.datetime(1990, 1, 1, tzinfo=pytz.utc)\n",
    "\n",
    "\n",
    "%matplotlib inline\n",
    "import matplotlib.pyplot as plt\n",
    "plt.rcParams[\"figure.figsize\"] = [25, 15]\n",
    "plt.rcParams['font.size'] = 20\n",
    "\n",
    "# list of dicts to get turned into a DataFrame\n",
    "df_tmp = []\n",
    "\n",
    "#####\n",
    "# we need to load netdict\n",
    "\n",
    "def readfile(fin=\"/Users/quinnbatten/Documents/Programming/PyProjects/rborrow/main1.json\"):\n",
    "    ''' Generic JSON reader, defaults to calling the file that getdata() outputs\n",
    "    '''\n",
    "\n",
    "    with open(fin) as f:\n",
    "        vals = json.load(f)\n",
    "    return vals\n",
    "\n",
    "def getgraphinmem():\n",
    "    '''Helper that reads our netdict file (the data translated into a useful dictionary thingie.)\n",
    "    '''\n",
    "    netdict = readfile(\"/Users/quinnbatten/Documents/Programming/PyProjects/rborrow/textfiles/netdict1.json\")\n",
    "\n",
    "    return netdict\n",
    "\n",
    "netdict = getgraphinmem()"
   ]
  },
  {
   "cell_type": "code",
   "execution_count": 2,
   "metadata": {},
   "outputs": [],
   "source": [
    "# Pop em into df_tmp\n",
    "for loan in netdict:\n",
    "    tmp_loan = {'amt':'', 'bor':'','date':'','lend':''}\n",
    "    if loan['amt'].isdigit():\n",
    "        tmp_loan['amt'] = int(loan['amt'])\n",
    "    else:\n",
    "        tmp_loan['amt'] = 'NaN'\n",
    "    tmp_loan['bor'] = loan['bor']\n",
    "    tmp_loan['lend'] = loan['lend']\n",
    "    tmp_loan['date'] = loan['date']\n",
    "    tmp_loan['date_h'] = datetime.datetime.utcfromtimestamp(loan['date']).strftime('%Y-%m-%d %H:%M:%S')\n",
    "    df_tmp.append(tmp_loan)\n",
    "    \n",
    "df = pd.DataFrame(df_tmp)\n",
    "df.replace('NaN', np.nan, inplace=True)\n",
    "df = df[df.amt != 0]\n",
    "df = df[~df.amt.isnull()]\n",
    "\n",
    "plt.rcParams[\"figure.figsize\"] = [25, 15]\n",
    "plt.rcParams['font.size'] = 20"
   ]
  },
  {
   "cell_type": "code",
   "execution_count": 7,
   "metadata": {},
   "outputs": [],
   "source": [
    "df_time = df[['amt','date','date_h']]\n",
    "pd.to_datetime(df_time['date_h'])\n",
    "df_time.set_index(df_time['date_h'], inplace=True)"
   ]
  },
  {
   "cell_type": "code",
   "execution_count": null,
   "metadata": {
    "scrolled": true
   },
   "outputs": [
    {
     "data": {
      "text/plain": [
       "<matplotlib.collections.PathCollection at 0x108380860>"
      ]
     },
     "execution_count": 11,
     "metadata": {},
     "output_type": "execute_result"
    }
   ],
   "source": [
    "plt.scatter(df_time['date_h'],df_time['amt'], s=5 )"
   ]
  },
  {
   "cell_type": "code",
   "execution_count": null,
   "metadata": {},
   "outputs": [],
   "source": [
    "df_t"
   ]
  },
  {
   "cell_type": "code",
   "execution_count": null,
   "metadata": {},
   "outputs": [],
   "source": [
    "plt.hist(df['amt'], bins = 40)\n",
    "#plt.title(\"Sum of lifetime loans (per Lender)\", size = 30)"
   ]
  },
  {
   "cell_type": "code",
   "execution_count": null,
   "metadata": {},
   "outputs": [],
   "source": [
    "tmp2 = df.aggregate(np.sum)\n",
    "tmp2"
   ]
  },
  {
   "cell_type": "markdown",
   "metadata": {},
   "source": [
    "### Let's look at our lenders..."
   ]
  },
  {
   "cell_type": "code",
   "execution_count": null,
   "metadata": {},
   "outputs": [],
   "source": [
    "df_lendgroup = df.groupby('lend')\n",
    "\n",
    "lsum = df_lendgroup.aggregate(np.sum)['amt']\n",
    "lcount = df_lendgroup.agg(pd.Series.nunique)['amt']\n",
    "lcount.describe()"
   ]
  },
  {
   "cell_type": "code",
   "execution_count": null,
   "metadata": {},
   "outputs": [],
   "source": [
    "lsum.describe()"
   ]
  },
  {
   "cell_type": "code",
   "execution_count": null,
   "metadata": {},
   "outputs": [],
   "source": [
    "tmp = lsum.aggregate(np.sum)\n",
    "tmp"
   ]
  },
  {
   "cell_type": "code",
   "execution_count": null,
   "metadata": {},
   "outputs": [],
   "source": [
    "plt.hist(lsum, bins = 40)\n",
    "plt.title(\"Sum of lifetime loans (per Lender)\", size = 30)"
   ]
  },
  {
   "cell_type": "code",
   "execution_count": null,
   "metadata": {
    "scrolled": true
   },
   "outputs": [],
   "source": [
    "plt.hist(lsum, bins = 40, log = True)\n",
    "plt.title(\"Sum of lifetime loans (per lender), Log Scale\", size = 30)"
   ]
  },
  {
   "cell_type": "code",
   "execution_count": null,
   "metadata": {},
   "outputs": [],
   "source": []
  },
  {
   "cell_type": "code",
   "execution_count": null,
   "metadata": {},
   "outputs": [],
   "source": []
  },
  {
   "cell_type": "code",
   "execution_count": null,
   "metadata": {},
   "outputs": [],
   "source": [
    "plt.hist(lsum[lsum < 1000], bins = 40)\n",
    "plt.title(\"Sum of lifetime loans, per lender, for those <$1000\", size = 30)"
   ]
  },
  {
   "cell_type": "markdown",
   "metadata": {},
   "source": [
    "Note: leftmost bar is 0 to <25"
   ]
  },
  {
   "cell_type": "code",
   "execution_count": null,
   "metadata": {},
   "outputs": [],
   "source": [
    "plt.hist(lsum[lsum > 8000], bins = 40)\n",
    "plt.title(\"Sum of lifetime loans, per lender, for those >$8000\", size = 30)"
   ]
  },
  {
   "cell_type": "markdown",
   "metadata": {},
   "source": [
    "####There are 11 people who have lent over $50,000 each"
   ]
  },
  {
   "cell_type": "markdown",
   "metadata": {},
   "source": [
    "###The largest loan given on the sub was $7000, the lender earned back $10,000\n",
    "\n",
    "https://www.reddit.com/r/borrow/comments/8p0cgz/paid_umusic_tech_7000_on_time/\n",
    "\n",
    "(Request: https://www.reddit.com/r/borrow/comments/7qqf7z/req_7000_columbia_md_usa_10010_by_060818_paypal/)"
   ]
  },
  {
   "cell_type": "code",
   "execution_count": null,
   "metadata": {},
   "outputs": [],
   "source": []
  },
  {
   "cell_type": "code",
   "execution_count": null,
   "metadata": {},
   "outputs": [],
   "source": [
    "group_bor = df.groupby('bor')\n",
    "\n",
    "bsum = group_bor.aggregate(np.sum)\n",
    "bcount = group_bor.agg(pd.Series.nunique)"
   ]
  },
  {
   "cell_type": "code",
   "execution_count": null,
   "metadata": {},
   "outputs": [],
   "source": [
    "bsum.describe()"
   ]
  },
  {
   "cell_type": "code",
   "execution_count": null,
   "metadata": {},
   "outputs": [],
   "source": [
    "bcount.describe()"
   ]
  },
  {
   "cell_type": "code",
   "execution_count": null,
   "metadata": {},
   "outputs": [],
   "source": [
    "#plt.hist(bsum, bins = 40)\n",
    "#plt.title(\"Sum of lifetime loans, per lender, for those >$8000\", size = 30)"
   ]
  },
  {
   "cell_type": "code",
   "execution_count": null,
   "metadata": {},
   "outputs": [],
   "source": [
    "bfindbig = group_bor[['bor','amt']].aggregate(np.sum)\n",
    "bfindbig[bfindbig['amt']>1000].sort_values(['amt'])"
   ]
  },
  {
   "cell_type": "code",
   "execution_count": null,
   "metadata": {},
   "outputs": [],
   "source": [
    "lfindbig = df_lendgroup[['bor','amt']].aggregate(np.sum)\n",
    "lfindbig[lfindbig['amt']>100000].sort_values(['amt'])"
   ]
  },
  {
   "cell_type": "code",
   "execution_count": null,
   "metadata": {},
   "outputs": [],
   "source": []
  }
 ],
 "metadata": {
  "kernelspec": {
   "display_name": "Python 3",
   "language": "python",
   "name": "python3"
  },
  "language_info": {
   "codemirror_mode": {
    "name": "ipython",
    "version": 3
   },
   "file_extension": ".py",
   "mimetype": "text/x-python",
   "name": "python",
   "nbconvert_exporter": "python",
   "pygments_lexer": "ipython3",
   "version": "3.7.0"
  }
 },
 "nbformat": 4,
 "nbformat_minor": 2
}
