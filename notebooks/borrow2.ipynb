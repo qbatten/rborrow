{
 "cells": [
  {
   "cell_type": "markdown",
   "metadata": {},
   "source": [
    "## Preamble"
   ]
  },
  {
   "cell_type": "code",
   "execution_count": 2,
   "metadata": {},
   "outputs": [],
   "source": [
    "# Load libraries and set plot parameters\n",
    "import numpy as np\n",
    "import pandas as pd\n",
    "import json\n",
    "import pytz\n",
    "\n",
    "import datetime\n",
    "datetime.datetime(1990, 1, 1, tzinfo=pytz.utc)\n",
    "\n",
    "import matplotlib.pyplot as plt\n",
    "%matplotlib inline\n",
    "\n",
    "from IPython.display import set_matplotlib_formats\n",
    "set_matplotlib_formats('pdf', 'png')\n",
    "plt.rcParams['savefig.dpi'] = 75\n",
    "\n",
    "plt.rcParams['figure.autolayout'] = False\n",
    "plt.rcParams['figure.figsize'] = 20, 15\n",
    "plt.rcParams['axes.labelsize'] = 18\n",
    "plt.rcParams['axes.titlesize'] = 20\n",
    "plt.rcParams['font.size'] = 16\n",
    "plt.rcParams['lines.linewidth'] = 2.0\n",
    "plt.rcParams['lines.markersize'] = 8\n",
    "plt.rcParams['legend.fontsize'] = 14\n",
    "\n",
    "#plt.rcParams['text.usetex'] = True\n",
    "#plt.rcParams['font.family'] = \"serif\"\n",
    "plt.rcParams['font.serif'] = \"cm\"\n",
    "#plt.rcParams['text.latex.preamble'] = \"\\\\usepackage{subdepth}, \\\\usepackage{type1cm}\""
   ]
  },
  {
   "cell_type": "code",
   "execution_count": 3,
   "metadata": {
    "code_folding": [
     0,
     1,
     8
    ]
   },
   "outputs": [],
   "source": [
    "# Functions to load data\n",
    "def readfile(fin):\n",
    "    ''' Generic JSON reader, defaults to calling the file that getdata() outputs\n",
    "    '''\n",
    "    with open(fin) as f:\n",
    "        vals = json.load(f)\n",
    "    return vals\n",
    "\n",
    "def getgraphinmem():\n",
    "    '''Helper that reads our netdict file (the data translated into a useful dictionary thingie.)\n",
    "    '''\n",
    "    netdict = readfile(\"/Users/quinnbatten/Documents/Programming/PyProjects/rborrow/textfiles/netdict1.json\")\n",
    "    return netdict\n",
    "\n",
    "netdict = getgraphinmem()"
   ]
  },
  {
   "cell_type": "code",
   "execution_count": 4,
   "metadata": {
    "code_folding": []
   },
   "outputs": [],
   "source": [
    "# Put into dataframe, do a bit of cleanup\n",
    "df_tmp = []\n",
    "\n",
    "for loan in netdict:\n",
    "    tmp_loan = {'amt':'', 'bor':'','date':'','lend':''}\n",
    "    if loan['amt'].isdigit():\n",
    "        tmp_loan['amt'] = int(loan['amt'])\n",
    "    else:\n",
    "        tmp_loan['amt'] = 'NaN'\n",
    "    tmp_loan['bor'] = loan['bor']\n",
    "    tmp_loan['lend'] = loan['lend']\n",
    "    tmp_loan['date'] = loan['date']\n",
    "    tmp_loan['date_h'] = datetime.datetime.utcfromtimestamp(loan['date']).strftime('%Y-%m-%d %H:%M:%S')\n",
    "    df_tmp.append(tmp_loan)\n",
    "    \n",
    "df = pd.DataFrame(df_tmp)\n",
    "df.replace('NaN', np.nan, inplace=True)\n",
    "df = df[df.amt != 0]\n",
    "df = df[~df.amt.isnull()]"
   ]
  },
  {
   "cell_type": "code",
   "execution_count": 5,
   "metadata": {
    "code_folding": []
   },
   "outputs": [
    {
     "data": {
      "text/html": [
       "<div>\n",
       "<style scoped>\n",
       "    .dataframe tbody tr th:only-of-type {\n",
       "        vertical-align: middle;\n",
       "    }\n",
       "\n",
       "    .dataframe tbody tr th {\n",
       "        vertical-align: top;\n",
       "    }\n",
       "\n",
       "    .dataframe thead th {\n",
       "        text-align: right;\n",
       "    }\n",
       "</style>\n",
       "<table border=\"1\" class=\"dataframe\">\n",
       "  <thead>\n",
       "    <tr style=\"text-align: right;\">\n",
       "      <th></th>\n",
       "      <th>amt</th>\n",
       "      <th>bor</th>\n",
       "      <th>lend</th>\n",
       "    </tr>\n",
       "    <tr>\n",
       "      <th>date</th>\n",
       "      <th></th>\n",
       "      <th></th>\n",
       "      <th></th>\n",
       "    </tr>\n",
       "  </thead>\n",
       "  <tbody>\n",
       "    <tr>\n",
       "      <th>2018-08-28 13:22:25</th>\n",
       "      <td>40.0</td>\n",
       "      <td>bannon031</td>\n",
       "      <td>thefirm17982</td>\n",
       "    </tr>\n",
       "    <tr>\n",
       "      <th>2018-08-28 00:46:36</th>\n",
       "      <td>775.0</td>\n",
       "      <td>akavinceblack</td>\n",
       "      <td>kashifr</td>\n",
       "    </tr>\n",
       "    <tr>\n",
       "      <th>2018-08-27 19:24:47</th>\n",
       "      <td>220.0</td>\n",
       "      <td>siemprebread</td>\n",
       "      <td>flagsfly</td>\n",
       "    </tr>\n",
       "    <tr>\n",
       "      <th>2018-08-27 19:07:47</th>\n",
       "      <td>400.0</td>\n",
       "      <td>thevomitgirl</td>\n",
       "      <td>WexleySnoops</td>\n",
       "    </tr>\n",
       "    <tr>\n",
       "      <th>2018-08-27 18:19:43</th>\n",
       "      <td>100.0</td>\n",
       "      <td>jriver76</td>\n",
       "      <td>Justaddwater01</td>\n",
       "    </tr>\n",
       "  </tbody>\n",
       "</table>\n",
       "</div>"
      ],
      "text/plain": [
       "                       amt            bor            lend\n",
       "date                                                     \n",
       "2018-08-28 13:22:25   40.0      bannon031    thefirm17982\n",
       "2018-08-28 00:46:36  775.0  akavinceblack         kashifr\n",
       "2018-08-27 19:24:47  220.0   siemprebread        flagsfly\n",
       "2018-08-27 19:07:47  400.0   thevomitgirl    WexleySnoops\n",
       "2018-08-27 18:19:43  100.0       jriver76  Justaddwater01"
      ]
     },
     "execution_count": 5,
     "metadata": {},
     "output_type": "execute_result"
    }
   ],
   "source": [
    "# Setting a datetime index\n",
    "df['date'] = pd.to_datetime(df['date_h'])\n",
    "del df['date_h']\n",
    "df.set_index('date', inplace=True)\n",
    "df.head()"
   ]
  },
  {
   "cell_type": "markdown",
   "metadata": {},
   "source": [
    "## Let's make some graphs!"
   ]
  },
  {
   "cell_type": "markdown",
   "metadata": {},
   "source": [
    "First, let's graph the total amount of principal moved through the platform each month."
   ]
  },
  {
   "cell_type": "code",
   "execution_count": 6,
   "metadata": {
    "code_folding": []
   },
   "outputs": [
    {
     "data": {
      "text/html": [
       "<div>\n",
       "<style scoped>\n",
       "    .dataframe tbody tr th:only-of-type {\n",
       "        vertical-align: middle;\n",
       "    }\n",
       "\n",
       "    .dataframe tbody tr th {\n",
       "        vertical-align: top;\n",
       "    }\n",
       "\n",
       "    .dataframe thead th {\n",
       "        text-align: right;\n",
       "    }\n",
       "</style>\n",
       "<table border=\"1\" class=\"dataframe\">\n",
       "  <thead>\n",
       "    <tr style=\"text-align: right;\">\n",
       "      <th></th>\n",
       "      <th>amt</th>\n",
       "    </tr>\n",
       "    <tr>\n",
       "      <th>date</th>\n",
       "      <th></th>\n",
       "    </tr>\n",
       "  </thead>\n",
       "  <tbody>\n",
       "    <tr>\n",
       "      <th>2018-08-28 13:22:25</th>\n",
       "      <td>40.0</td>\n",
       "    </tr>\n",
       "    <tr>\n",
       "      <th>2018-08-28 00:46:36</th>\n",
       "      <td>775.0</td>\n",
       "    </tr>\n",
       "    <tr>\n",
       "      <th>2018-08-27 19:24:47</th>\n",
       "      <td>220.0</td>\n",
       "    </tr>\n",
       "    <tr>\n",
       "      <th>2018-08-27 19:07:47</th>\n",
       "      <td>400.0</td>\n",
       "    </tr>\n",
       "    <tr>\n",
       "      <th>2018-08-27 18:19:43</th>\n",
       "      <td>100.0</td>\n",
       "    </tr>\n",
       "  </tbody>\n",
       "</table>\n",
       "</div>"
      ],
      "text/plain": [
       "                       amt\n",
       "date                      \n",
       "2018-08-28 13:22:25   40.0\n",
       "2018-08-28 00:46:36  775.0\n",
       "2018-08-27 19:24:47  220.0\n",
       "2018-08-27 19:07:47  400.0\n",
       "2018-08-27 18:19:43  100.0"
      ]
     },
     "execution_count": 6,
     "metadata": {},
     "output_type": "execute_result"
    }
   ],
   "source": [
    "# Making a new aggregated dataframe: sum of loans repaid each month\n",
    "df_m = df.copy()\n",
    "del df_m['bor']\n",
    "del df_m['lend']\n",
    "df_m.resample('M').sum()\n",
    "df_m.head()"
   ]
  },
  {
   "cell_type": "code",
   "execution_count": 7,
   "metadata": {},
   "outputs": [
    {
     "data": {
      "text/plain": [
       "Text(0.5,1,'Total loan amount repaid, by month, for all users')"
      ]
     },
     "execution_count": 7,
     "metadata": {},
     "output_type": "execute_result"
    },
    {
     "data": {
      "application/pdf": "[encoded data removed]",
      "image/png": "[encoded data removed]",
      "text/plain": [
       "<Figure size 432x288 with 1 Axes>"
      ]
     },
     "metadata": {
      "needs_background": "light"
     },
     "output_type": "display_data"
    }
   ],
   "source": [
    "plt.plot(df_m.index, df_m['amt'])\n",
    "plt.title(\"Total loan amount repaid, by month, for all users\", size=30)"
   ]
  },
  {
   "cell_type": "code",
   "execution_count": null,
   "metadata": {},
   "outputs": [],
   "source": [
    "plt.hist(df['amt'], bins = 40)\n",
    "plt.title(\"Loan amount, by loan\", size = 30)"
   ]
  },
  {
   "cell_type": "code",
   "execution_count": null,
   "metadata": {},
   "outputs": [],
   "source": [
    "amt = df['amt']\n",
    "plt.hist(amt[amt < 1000], bins = 100)\n",
    "plt.title(\"Loan amount, by loan, for loans <$1000\", size = 30)"
   ]
  },
  {
   "cell_type": "code",
   "execution_count": null,
   "metadata": {},
   "outputs": [],
   "source": [
    "tmp2 = df.aggregate(np.sum)\n",
    "tmp2"
   ]
  },
  {
   "cell_type": "markdown",
   "metadata": {},
   "source": [
    "### Let's look at our lenders..."
   ]
  },
  {
   "cell_type": "code",
   "execution_count": null,
   "metadata": {},
   "outputs": [],
   "source": [
    "df_lendgroup = df.groupby('lend')\n",
    "\n",
    "lsum = df_lendgroup.aggregate(np.sum)['amt']\n",
    "lcount = df_lendgroup.agg(pd.Series.nunique)['amt']\n",
    "lcount.describe()"
   ]
  },
  {
   "cell_type": "code",
   "execution_count": null,
   "metadata": {},
   "outputs": [],
   "source": [
    "lsum.describe()"
   ]
  },
  {
   "cell_type": "code",
   "execution_count": null,
   "metadata": {},
   "outputs": [],
   "source": [
    "plt.hist(lcount[lcount<20], bins = 20)\n",
    "plt.title(\"Number of lifetime loans, by lender, for those <20\", size = 30)"
   ]
  },
  {
   "cell_type": "code",
   "execution_count": null,
   "metadata": {},
   "outputs": [],
   "source": [
    "lcount"
   ]
  },
  {
   "cell_type": "code",
   "execution_count": null,
   "metadata": {},
   "outputs": [],
   "source": [
    "plt.hist(lsum[(lsum < 1000) & (lsum > 0)], bins = 40)\n",
    "plt.title(\"Sum of lifetime loans, per lender, for those <$1000\", size = 30)"
   ]
  },
  {
   "cell_type": "markdown",
   "metadata": {},
   "source": []
  },
  {
   "cell_type": "code",
   "execution_count": null,
   "metadata": {},
   "outputs": [],
   "source": [
    "plt.hist(lsum[lsum > 8000], bins = 40)\n",
    "plt.title(\"Sum of lifetime loans, per lender, for those >$8000\", size = 30)"
   ]
  },
  {
   "cell_type": "markdown",
   "metadata": {},
   "source": [
    "####There are 11 people who have lent over $50,000 each"
   ]
  },
  {
   "cell_type": "markdown",
   "metadata": {},
   "source": [
    "###The largest loan given on the sub was $7000, the lender earned back $10,000\n",
    "\n",
    "https://www.reddit.com/r/borrow/comments/8p0cgz/paid_umusic_tech_7000_on_time/\n",
    "\n",
    "(Request: https://www.reddit.com/r/borrow/comments/7qqf7z/req_7000_columbia_md_usa_10010_by_060818_paypal/)"
   ]
  },
  {
   "cell_type": "code",
   "execution_count": null,
   "metadata": {},
   "outputs": [],
   "source": [
    "group_bor = df.groupby('bor')\n",
    "\n",
    "bsum = group_bor.aggregate(np.sum)\n",
    "bcount = group_bor.agg(pd.Series.nunique)"
   ]
  },
  {
   "cell_type": "code",
   "execution_count": null,
   "metadata": {},
   "outputs": [],
   "source": [
    "bsum.describe()"
   ]
  },
  {
   "cell_type": "code",
   "execution_count": null,
   "metadata": {},
   "outputs": [],
   "source": [
    "bcount.describe()"
   ]
  },
  {
   "cell_type": "code",
   "execution_count": null,
   "metadata": {},
   "outputs": [],
   "source": [
    "bfindbig = group_bor[['bor','amt']].aggregate(np.sum)\n",
    "bfindbig[bfindbig['amt']>1000].sort_values(['amt'])"
   ]
  },
  {
   "cell_type": "code",
   "execution_count": null,
   "metadata": {},
   "outputs": [],
   "source": [
    "lfindbig = df_lendgroup[['bor','amt']].aggregate(np.sum)\n",
    "lfindbig[lfindbig['amt']>100000].sort_values(['amt'])"
   ]
  },
  {
   "cell_type": "code",
   "execution_count": null,
   "metadata": {},
   "outputs": [],
   "source": []
  }
 ],
 "metadata": {
  "kernelspec": {
   "display_name": "Python 3",
   "language": "python",
   "name": "python3"
  },
  "language_info": {
   "codemirror_mode": {
    "name": "ipython",
    "version": 3
   },
   "file_extension": ".py",
   "mimetype": "text/x-python",
   "name": "python",
   "nbconvert_exporter": "python",
   "pygments_lexer": "ipython3",
   "version": "3.7.0"
  },
  "latex_metadata": {
   "author": "Quinn Batten",
   "title": "Sending money to strangers: Investigating an online lending forum"
  }
 },
 "nbformat": 4,
 "nbformat_minor": 2
}
